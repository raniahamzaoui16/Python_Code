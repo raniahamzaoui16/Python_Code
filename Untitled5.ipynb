{
  "nbformat": 4,
  "nbformat_minor": 0,
  "metadata": {
    "colab": {
      "provenance": [],
      "authorship_tag": "ABX9TyOChXep3pz0fg8Vh/z6nhm6",
      "include_colab_link": true
    },
    "kernelspec": {
      "name": "python3",
      "display_name": "Python 3"
    },
    "language_info": {
      "name": "python"
    }
  },
  "cells": [
    {
      "cell_type": "markdown",
      "metadata": {
        "id": "view-in-github",
        "colab_type": "text"
      },
      "source": [
        "<a href=\"https://colab.research.google.com/github/raniahamzaoui16/Python_Code/blob/main/Untitled5.ipynb\" target=\"_parent\"><img src=\"https://colab.research.google.com/assets/colab-badge.svg\" alt=\"Open In Colab\"/></a>"
      ]
    },
    {
      "cell_type": "code",
      "execution_count": 9,
      "metadata": {
        "colab": {
          "base_uri": "https://localhost:8080/",
          "height": 305
        },
        "id": "bF-xUzwTwB-t",
        "outputId": "28f942cd-f2e0-41da-ef45-0ccc3baadad1"
      },
      "outputs": [
        {
          "output_type": "stream",
          "name": "stdout",
          "text": [
            "Please enter your text here: Les vagues s’écrasaient doucement contre les rochers, créant une mélodie apaisante qui se mêlait au souffle du vent. Le ciel, d’un bleu profond, se fondait lentement dans les teintes orangées du coucher du soleil. Au loin, des oiseaux en migration traçaient des arcs élégants dans l’air, tandis que l’odeur salée de l’océan emplissait l’atmosphère. Les gens sur la plage semblaient tous absorbés par cette scène tranquille, chacun perdu dans ses pensées, mais unis par la beauté de l’instant.\n",
            "This passage evokes a serene and beautiful coastal scene at sunset.  Here are some key elements:\n",
            "\n",
            "* **Gentle waves and rocks:** The sound of the waves creates a calming melody, enhanced by the wind. This suggests a peaceful, perhaps secluded, beach.\n",
            "\n",
            "* **Vibrant sunset:** The deep blue sky transitioning to orange hues indicates a beautiful sunset, adding warmth and color to the scene.\n",
            "\n",
            "* **Migratory birds:** The birds flying in elegant arcs add a sense of movement and life to the otherwise tranquil scene.\n",
            "\n",
            "* **Ocean scent:** The salty air emphasizes the coastal setting and adds to the sensory experience.\n",
            "\n",
            "* **People in contemplation:** The people on the beach are described as absorbed in the scene, lost in thought, yet united by its beauty. This suggests a shared experience of peace and awe.\n",
            "\n",
            "Overall, the passage paints a picture of a peaceful and idyllic sunset on a beach, emphasizing the sensory details and the unifying effect of natural beauty.  The mood is calm, contemplative, and serene.\n",
            "\n"
          ]
        }
      ],
      "source": [
        "import os\n",
        "import google.generativeai as genai\n",
        "\n",
        "os.environ[\"GEMINI_API_KEY\"] = ''",
        "\n",
        "genai.configure(api_key=os.environ[\"GEMINI_API_KEY\"])\n",
        "\n",
        "\n",
        "# Create the model\n",
        "generation_config = {\n",
        "  \"temperature\": 1,\n",
        "  \"top_p\": 0.95,\n",
        "  \"top_k\": 40,\n",
        "  \"max_output_tokens\": 8192,\n",
        "  \"response_mime_type\": \"text/plain\",\n",
        "}\n",
        "\n",
        "model = genai.GenerativeModel(\n",
        "  model_name=\"gemini-1.5-flash\",\n",
        "  generation_config=generation_config,\n",
        ")\n",
        "\n",
        "chat_session = model.start_chat(\n",
        "  history=[\n",
        "    {\n",
        "      \"role\": \"user\",\n",
        "      \"parts\": [\n",
        "        \"Here is an article about exciting things to do in New York City. Convert this into a structured format with 3 columns - activity, best season to partake in this activity, and amount of time needed.\\n\\nNew York City vibrates with an irresistible energy that never sleeps, offering an abundance of experiences for every traveler! In the pleasant embrace of spring or the colorful tapestry of fall, dedicate a half or even a full day to exploring the sprawling expanse of Central Park. Take a leisurely bike ride, enjoy a picnic lunch, or rent a boat on the lake – the possibilities for enjoyment are endless! Regardless of the season, art enthusiasts can immerse themselves in the vast collection of the Metropolitan Museum of Art, dedicating an afternoon to wander through centuries of human creativity.\\n\\nFor a dose of captivating entertainment, catch a world-renowned Broadway show, a three-hour journey into the heart of theater and music. Spring or fall offers the ideal weather for a ferry ride to the Statue of Liberty and Ellis Island, allowing for a half or full day to delve into the stories of immigration and freedom that shaped America. When the weather beckons you outdoors in the summer months, dedicate an hour to a stroll along the High Line, a unique elevated park offering breathtaking city views and urban gardens.\\n\\nAs dusk settles, head to the dazzling spectacle of Times Square, spending thirty minutes to an hour soaking in the vibrant lights and bustling energy. For a moment of reflection, visit the poignant 9/11 Memorial & Museum, dedicating two to three hours to honor the lives lost and the unwavering spirit of the city. From the trendy streets of Soho to the historic charm of Greenwich Village, exploring the diverse neighborhoods of New York City is an adventure in itself, with the time commitment varying based on your chosen area and interests. And for those seeking a taste of the city's vibrant culture, a two-hour hour food tour will tantalize your taste buds with diverse flavors and culinary delights.\\n\\nNo matter your interests or the time of year, New York City promises an unforgettable experience, brimming with iconic sights, captivating performances, and endless opportunities for exploration!\",\n",
        "      ],\n",
        "    },\n",
        "    {\n",
        "      \"role\": \"model\",\n",
        "      \"parts\": [\n",
        "        \"| Activity                     | Best Season to Partake | Time Needed      |\\n|------------------------------|-------------------------|-------------------|\\n| Exploring Central Park       | Spring, Fall            | Half-day to Full-day |\\n| Visiting the Metropolitan Museum of Art | Any Season             | Afternoon         |\\n| Attending a Broadway Show    | Any Season             | 3 hours           |\\n| Ferry to Statue of Liberty & Ellis Island | Spring, Fall            | Half-day to Full-day |\\n| Walking the High Line        | Summer                  | 1 hour            |\\n| Visiting Times Square        | Any Season             | 30 minutes - 1 hour |\\n| Visiting 9/11 Memorial & Museum | Any Season             | 2-3 hours         |\\n| Exploring NYC Neighborhoods (e.g., Soho, Greenwich Village) | Any Season             | Varies             |\\n| Food Tour                     | Any Season             | 2 hours           |\\n\\n\",\n",
        "      ],\n",
        "    },\n",
        "  ]\n",
        ")\n",
        "\n",
        "response = chat_session.send_message(input(\"Please enter your text here: \"))\n",
        "\n",
        "print(response.text)"
      ]
    }
  ]
}
